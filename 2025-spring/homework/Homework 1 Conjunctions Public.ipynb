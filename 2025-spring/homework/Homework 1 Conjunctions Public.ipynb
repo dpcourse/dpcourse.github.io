{
 "cells": [
  {
   "cell_type": "code",
   "execution_count": 1,
   "id": "b67b9e81-7f70-4025-b4a2-4bd43a9bda81",
   "metadata": {},
   "outputs": [],
   "source": [
    "import gurobipy as gp\n",
    "from gurobipy import GRB\n",
    "import numpy as np\n",
    "import scipy.sparse as sp\n",
    "import time"
   ]
  },
  {
   "cell_type": "markdown",
   "id": "ee886711-8a63-4f15-a3eb-26c127f18b9b",
   "metadata": {},
   "source": [
    "# Testing Gurobi install with basic MIP"
   ]
  },
  {
   "cell_type": "code",
   "execution_count": 3,
   "id": "532b3826-1c71-4b39-9794-1eabf7a6919e",
   "metadata": {},
   "outputs": [
    {
     "name": "stdout",
     "output_type": "stream",
     "text": [
      "Restricted license - for non-production use only - expires 2026-11-23\n",
      "Gurobi Optimizer version 12.0.1 build v12.0.1rc0 (mac64[arm] - Darwin 23.6.0 23H311)\n",
      "\n",
      "CPU model: Apple M3 Pro\n",
      "Thread count: 11 physical cores, 11 logical processors, using up to 11 threads\n",
      "\n",
      "Optimize a model with 2 rows, 3 columns and 5 nonzeros\n",
      "Model fingerprint: 0x8d4960d3\n",
      "Variable types: 0 continuous, 3 integer (3 binary)\n",
      "Coefficient statistics:\n",
      "  Matrix range     [1e+00, 3e+00]\n",
      "  Objective range  [1e+00, 2e+00]\n",
      "  Bounds range     [1e+00, 1e+00]\n",
      "  RHS range        [1e+00, 4e+00]\n",
      "Found heuristic solution: objective 2.0000000\n",
      "Presolve removed 2 rows and 3 columns\n",
      "Presolve time: 0.00s\n",
      "Presolve: All rows and columns removed\n",
      "\n",
      "Explored 0 nodes (0 simplex iterations) in 0.00 seconds (0.00 work units)\n",
      "Thread count was 1 (of 11 available processors)\n",
      "\n",
      "Solution count 2: 3 2 \n",
      "\n",
      "Optimal solution found (tolerance 1.00e-04)\n",
      "Best objective 3.000000000000e+00, best bound 3.000000000000e+00, gap 0.0000%\n",
      "[1. 0. 1.]\n",
      "Obj: 3\n"
     ]
    }
   ],
   "source": [
    "# Create a new model\n",
    "m = gp.Model(\"matrix1\")\n",
    "\n",
    "# Create variables\n",
    "x = m.addMVar(shape=3, vtype=GRB.BINARY, name=\"x\")\n",
    "\n",
    "# Set objective\n",
    "obj = np.array([1.0, 1.0, 2.0])\n",
    "m.setObjective(obj @ x, GRB.MAXIMIZE)\n",
    "\n",
    "# Build (sparse) constraint matrix\n",
    "val = np.array([1.0, 2.0, 3.0, -1.0, -1.0])\n",
    "row = np.array([0, 0, 0, 1, 1])\n",
    "col = np.array([0, 1, 2, 0, 1])\n",
    "\n",
    "A = sp.csr_matrix((val, (row, col)), shape=(2, 3))\n",
    "\n",
    "# Build rhs vector\n",
    "rhs = np.array([4.0, -1.0])\n",
    "\n",
    "# Add constraints\n",
    "m.addConstr(A @ x <= rhs, name=\"c\")\n",
    "\n",
    "# Optimize model\n",
    "m.optimize()\n",
    "\n",
    "print(x.X)\n",
    "print(f\"Obj: {m.ObjVal:g}\")\n"
   ]
  },
  {
   "cell_type": "markdown",
   "id": "72af51dc-25ad-4612-b80b-823574314444",
   "metadata": {},
   "source": [
    "# Two-way marginals"
   ]
  },
  {
   "cell_type": "markdown",
   "id": "044ac7e8-ef4e-4bb9-ad24-8e75099f4960",
   "metadata": {},
   "source": [
    "## Generate table and compute marginals"
   ]
  },
  {
   "cell_type": "code",
   "execution_count": 6,
   "id": "65ff7ace-3bfe-4cf1-9084-a019bbcbc449",
   "metadata": {},
   "outputs": [],
   "source": [
    "def generate_random_binary_table(n, d):\n",
    "    \"\"\"\n",
    "    Generates an n x d binary table with entries 0 or 1 chosen uniformly at random.\n",
    "    \n",
    "    Parameters:\n",
    "        n (int): Number of rows.\n",
    "        d (int): Number of columns.\n",
    "        \n",
    "    Returns:\n",
    "        np.ndarray: A binary matrix of shape (n, d).\n",
    "    \"\"\"\n",
    "    # np.random.randint generates integers in [0,2) i.e. 0 or 1.\n",
    "    table = np.random.randint(0, 2, size=(n, d))\n",
    "    return table\n",
    "\n",
    "def compute_two_way_marginals(table):\n",
    "    \"\"\"\n",
    "    Computes the 2-way marginals for a given binary table.\n",
    "    \n",
    "    For every pair of column indices (i, j) with i < j, it counts the number of rows \n",
    "    that have a 1 in both column i and column j.\n",
    "    \n",
    "    Parameters:\n",
    "        table (np.ndarray): A binary matrix of shape (n, d).\n",
    "        \n",
    "    Returns:\n",
    "        dict: A dictionary with keys as tuples (i, j) and values as the counts.\n",
    "    \"\"\"\n",
    "    # Compute the d x d matrix of inner products between columns.\n",
    "    # The (i, j)-th entry of counts is the number of rows where both column i and column j are 1.\n",
    "    counts = table.T @ table\n",
    "    \n",
    "    # Use np.triu_indices to extract indices where i < j.\n",
    "    d = table.shape[1]\n",
    "    i_indices, j_indices = np.triu_indices(d, k=0)\n",
    "    \n",
    "    # Create the dictionary of 2-way monotone marginals.\n",
    "    # Includes 1-way marginals since it includes cases where i ==j\n",
    "    marginals = {(i, j): counts[i, j] for i, j in zip(i_indices, j_indices)}\n",
    "    \n",
    "    \n",
    "    return marginals\n"
   ]
  },
  {
   "cell_type": "code",
   "execution_count": 7,
   "id": "392bf083-2b14-4286-8059-3d2bb1d60da4",
   "metadata": {},
   "outputs": [],
   "source": [
    "n1 = 3\n",
    "d1 = 5\n",
    "table1 = generate_random_binary_table(n1, d1)\n",
    "marginals1 = compute_two_way_marginals(table1)"
   ]
  },
  {
   "cell_type": "code",
   "execution_count": 8,
   "id": "3dabd114-6ff8-4b3a-8a5a-84d90bb0fdb7",
   "metadata": {},
   "outputs": [
    {
     "name": "stdout",
     "output_type": "stream",
     "text": [
      "{(0, 0): 1, (0, 1): 0, (0, 2): 1, (0, 3): 1, (0, 4): 0, (1, 1): 1, (1, 2): 0, (1, 3): 0, (1, 4): 1, (2, 2): 2, (2, 3): 2, (2, 4): 1, (3, 3): 2, (3, 4): 1, (4, 4): 2}\n"
     ]
    }
   ],
   "source": [
    "print(marginals1)"
   ]
  },
  {
   "cell_type": "markdown",
   "id": "14f42164-06ab-41ea-aa37-567631a03846",
   "metadata": {},
   "source": [
    "## Running Gurobi solver"
   ]
  },
  {
   "cell_type": "code",
   "execution_count": 42,
   "id": "a8c2caa7-dc21-4e30-9418-f2425e026035",
   "metadata": {},
   "outputs": [],
   "source": [
    "def solve_table_from_marginals(n, d, marginals, verbose = False):\n",
    "    \"\"\"\n",
    "    Given the number of rows n, the number of columns d, and a dictionary of 2-way marginals,\n",
    "    this function builds and solves a Gurobi model to find a binary table that is consistent with\n",
    "    the provided marginals.\n",
    "\n",
    "    Parameters:\n",
    "        n (int): Number of rows in the table.\n",
    "        d (int): Number of columns in the table.\n",
    "        marginals (dict): A dictionary where keys are tuples (i, j) with 0 <= i < j < d and \n",
    "                          values are the counts of rows with a 1 in both columns i and j.\n",
    "\n",
    "    Returns:\n",
    "        list of lists: A 2D list representing the binary table, or None if no solution exists.\n",
    "        Gurobi model: the actual Gurobi object (for inspection)\n",
    "    \"\"\"\n",
    "    # Create a new model.\n",
    "    m = gp.Model(\"table_from_marginals\")\n",
    "    \n",
    "    # Turn off Gurobi output if desired (set to 1 to see details)\n",
    "    if verbose: \n",
    "        m.Params.OutputFlag = 1\n",
    "    else:\n",
    "        m.Params.OutputFlag = 0\n",
    "\n",
    "    # Create binary variables x[r,c] for each row r and column c.\n",
    "    x = m.addVars(n, d, vtype=GRB.BINARY, name=\"x\")\n",
    "\n",
    "    # For every pair of columns (i, j) in the marginals dictionary,\n",
    "    # add a quadratic constraint that forces the inner product of column i and column j\n",
    "    # to equal the provided marginal value.\n",
    "    for i in range(d):\n",
    "        for j in range(i + 1, d):\n",
    "            m.addQConstr(\n",
    "                ########################################\n",
    "                ########################################\n",
    "                # ADD THE ACTUAL CONSTRAINT HERE!\n",
    "                0,\n",
    "                ########################################\n",
    "                ########################################\n",
    "                name=f\"marginal_{i}_{j}\")\n",
    "    \n",
    "    m.setObjective(0,\n",
    "                   GRB.MINIMIZE)\n",
    "    m.Params.PoolSolutions = 1\n",
    "    m.Params.SolutionLimit = 1\n",
    "\n",
    "    # Optimize the model.\n",
    "    m.optimize()\n",
    "\n",
    "    # Check if a solution was found.\n",
    "    if m.solCount > 0: # m.status in (GRB.OPTIMAL, GRB.FEASIBLE):\n",
    "        # Extract and return the table as a list of lists.\n",
    "        solution = [[int(x[r, c].X) for c in range(d)] for r in range(n)]\n",
    "        return solution, m\n",
    "    else:\n",
    "        print(\"No solution was found\")\n",
    "        return None, m\n"
   ]
  },
  {
   "cell_type": "markdown",
   "id": "103919cc-f6e4-4c8b-a31d-3b7cb8f4dcc1",
   "metadata": {},
   "source": [
    "### Let's try to reconstruct!"
   ]
  },
  {
   "cell_type": "code",
   "execution_count": 60,
   "id": "190a0ee1-bdd5-4255-96de-954125c1c992",
   "metadata": {},
   "outputs": [
    {
     "name": "stdout",
     "output_type": "stream",
     "text": [
      "Original:\n",
      "[[0 1 1 1 1 0 0]\n",
      " [1 1 0 0 1 1 0]]\n",
      "Reconstructed\n",
      "[[1 1 0 0 1 1 0]\n",
      " [0 1 1 1 1 0 0]]\n"
     ]
    }
   ],
   "source": [
    "n1 = 2\n",
    "d1 = 7\n",
    "table1 = generate_random_binary_table(n1, d1)\n",
    "marginals1 = compute_two_way_marginals(table1)\n",
    "sol1, m1 = solve_table_from_marginals(n1, d1, marginals1)\n",
    "\n",
    "print(\"Original:\")\n",
    "print(table1)\n",
    "print(\"Reconstructed\")\n",
    "print(np.array(sol1))"
   ]
  },
  {
   "cell_type": "code",
   "execution_count": null,
   "id": "938d721a-3fb7-4218-973f-d6ee2d221cb7",
   "metadata": {},
   "outputs": [],
   "source": []
  },
  {
   "cell_type": "code",
   "execution_count": null,
   "id": "3c959972-1d5e-42b9-b7b5-fb370baa0b1c",
   "metadata": {},
   "outputs": [],
   "source": []
  }
 ],
 "metadata": {
  "kernelspec": {
   "display_name": "Python [conda env:base] *",
   "language": "python",
   "name": "conda-base-py"
  },
  "language_info": {
   "codemirror_mode": {
    "name": "ipython",
    "version": 3
   },
   "file_extension": ".py",
   "mimetype": "text/x-python",
   "name": "python",
   "nbconvert_exporter": "python",
   "pygments_lexer": "ipython3",
   "version": "3.12.2"
  }
 },
 "nbformat": 4,
 "nbformat_minor": 5
}
